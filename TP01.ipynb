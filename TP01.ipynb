{
  "nbformat": 4,
  "nbformat_minor": 0,
  "metadata": {
    "colab": {
      "provenance": []
    },
    "kernelspec": {
      "name": "python3",
      "display_name": "Python 3"
    },
    "language_info": {
      "name": "python"
    }
  },
  "cells": [
    {
      "cell_type": "code",
      "execution_count": 76,
      "metadata": {
        "id": "z8yNqrFBgVA_"
      },
      "outputs": [],
      "source": [
        "from sklearn import preprocessing as pp, model_selection, ensemble, linear_model as lm, metrics\n",
        "import pandas as pd\n",
        "import numpy as np\n",
        "from sklearn.preprocessing import OneHotEncoder\n",
        "from tensorflow import keras\n",
        "import sklearn\n",
        "\n",
        "df = pd.read_csv('College.csv')"
      ]
    },
    {
      "cell_type": "code",
      "source": [
        "ohe = OneHotEncoder()\n",
        "# fit and transform data\n",
        "one_hot_encoded = ohe.fit_transform(df[['Private']])\n",
        "# create a DataFrame from the transformed data\n",
        "df_encoded = pd.DataFrame(one_hot_encoded.toarray(), columns=ohe.get_feature_names_out(['Private']))\n",
        "# concatenate the original DataFrame with the one-hot encoded DataFrame\n",
        "df_final = pd.concat([df, df_encoded], axis=1)\n",
        "\n",
        "\n",
        "x = df_final.loc[:, df_final.columns.drop(['Apps', 'Unnamed: 0', 'Private',\"Private_No\"]) ]\n",
        "y = df_final.loc[:, df_final.columns == 'Apps']\n",
        "\n"
      ],
      "metadata": {
        "id": "jsANTv8QgrQn"
      },
      "execution_count": 87,
      "outputs": []
    },
    {
      "cell_type": "code",
      "source": [
        "#### Standardize the data\n",
        "\n",
        "scale = pp.StandardScaler()\n",
        "\n",
        "scale.fit(x)\n",
        "xs = scale.transform(x)\n",
        "\n",
        "scale.fit(y)\n",
        "ys = scale.transform(y)"
      ],
      "metadata": {
        "id": "_2dwGu68zefw"
      },
      "execution_count": 69,
      "outputs": []
    },
    {
      "cell_type": "code",
      "source": [
        "xstrain,xstest, ystrain,ystest = model_selection.train_test_split(xs,ys, test_size=.30 )"
      ],
      "metadata": {
        "id": "CLnbz5n_h-0i"
      },
      "execution_count": 70,
      "outputs": []
    },
    {
      "cell_type": "code",
      "source": [
        "linear = lm.LinearRegression().fit(xstrain, ystrain)\n",
        "preds = linear.predict(xstest)\n",
        "print(\"The R^2 value is: \", linear.score(xstrain,ystrain))\n",
        "\n",
        "print(\"The Linear Regression model's MSE is: \", round(metrics.mean_squared_error(ystest,preds),4))\n"
      ],
      "metadata": {
        "colab": {
          "base_uri": "https://localhost:8080/"
        },
        "id": "ipUvyX5wg0Zn",
        "outputId": "2103312f-7638-4c8e-f87e-0b03ad7c3814"
      },
      "execution_count": 86,
      "outputs": [
        {
          "output_type": "stream",
          "name": "stdout",
          "text": [
            "The R^2 value is:  0.9394677313094707\n",
            "The Linear Regression model's MSE is:  0.079\n"
          ]
        }
      ]
    },
    {
      "cell_type": "code",
      "source": [
        "ridge = lm.RidgeCV(cv=10, alphas=[.1,1,10,20,50,75,100], scoring='neg_mean_squared_error').fit(xstrain, ystrain)\n",
        "pred = ridge.predict(xstest)\n",
        "\n",
        "print(ridge.score(xstrain,ystrain))\n",
        "\n",
        "\n",
        "\n",
        "print(\"The Ridge model's MSE is: \", round(metrics.mean_squared_error(ystest,pred),4))\n",
        "\n",
        "\n",
        "print(ridge.coef_)\n",
        "ridge.alpha_"
      ],
      "metadata": {
        "colab": {
          "base_uri": "https://localhost:8080/"
        },
        "id": "l0U1N1mQy8ap",
        "outputId": "46db7f52-998e-4f39-b612-946852b8f5b3"
      },
      "execution_count": 84,
      "outputs": [
        {
          "output_type": "stream",
          "name": "stdout",
          "text": [
            "0.939467271382655\n",
            "The Ridge model's MSE is:  0.0788\n",
            "[[ 1.03095215 -0.2927507   0.26466437 -0.10934457  0.14699687 -0.01454229\n",
            "  -0.11663776  0.05077653 -0.00499485  0.01436262 -0.05083843 -0.01340971\n",
            "   0.02047218  0.01830817  0.12937655  0.05360645 -0.0555394 ]]\n"
          ]
        },
        {
          "output_type": "execute_result",
          "data": {
            "text/plain": [
              "0.1"
            ]
          },
          "metadata": {},
          "execution_count": 84
        }
      ]
    },
    {
      "cell_type": "code",
      "source": [
        "lasso = lm.LassoCV(cv=10, alphas=[.1,1,10,20,50,75,100]).fit(xstrain, ystrain.ravel())\n",
        "pred = lasso.predict(xstest)\n",
        "\n",
        "lm.LassoCV()\n",
        "\n",
        "print('The R^2 value is: ', lasso.score(xstrain,ystrain))\n",
        "\n",
        "print(\"The Lasso model's MSE is: \", round(metrics.mean_squared_error(ystest,pred),4))\n",
        "\n",
        "print('The beta coefficients are: ', lasso.coef_[lasso.coef_ != 0 ])"
      ],
      "metadata": {
        "colab": {
          "base_uri": "https://localhost:8080/"
        },
        "id": "RPjctUhHqy0I",
        "outputId": "0db2fa16-d9c5-4d81-f674-7cd78080ff00"
      },
      "execution_count": 83,
      "outputs": [
        {
          "output_type": "stream",
          "name": "stdout",
          "text": [
            "The R^2 value is:  0.9108557616825044\n",
            "The Lasso model's MSE is:  0.074\n",
            "The beta coefficients are:  [0.84256408 0.07395722 0.02391206]\n"
          ]
        }
      ]
    },
    {
      "cell_type": "code",
      "source": [
        "### Best Model is the Lasso Regression"
      ],
      "metadata": {
        "id": "xhk7vrHpw8eb"
      },
      "execution_count": null,
      "outputs": []
    }
  ]
}