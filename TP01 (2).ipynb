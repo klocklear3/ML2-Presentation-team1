{
  "nbformat": 4,
  "nbformat_minor": 0,
  "metadata": {
    "colab": {
      "provenance": []
    },
    "kernelspec": {
      "name": "python3",
      "display_name": "Python 3"
    },
    "language_info": {
      "name": "python"
    }
  },
  "cells": [
    {
      "cell_type": "markdown",
      "source": [
        "# **Objective:**\n",
        "\n",
        "- Create regression models to predict college applications for different US unviersities\n",
        "\n",
        "- What factors impact college application totals the most? \n"
      ],
      "metadata": {
        "id": "Lor63Jgcxtbp"
      }
    },
    {
      "cell_type": "markdown",
      "source": [
        "**Import Necessary Packages and load the  dataset**\n"
      ],
      "metadata": {
        "id": "65Wxc_-elnak"
      }
    },
    {
      "cell_type": "code",
      "execution_count": 114,
      "metadata": {
        "id": "z8yNqrFBgVA_",
        "colab": {
          "base_uri": "https://localhost:8080/",
          "height": 748
        },
        "outputId": "f8f860aa-894e-4ef4-9d0f-2a17d1487528"
      },
      "outputs": [
        {
          "output_type": "execute_result",
          "data": {
            "text/plain": [
              "                         Unnamed: 0 Private   Apps  Accept  Enroll  Top10perc  \\\n",
              "0      Abilene Christian University     Yes   1660    1232     721         23   \n",
              "1                Adelphi University     Yes   2186    1924     512         16   \n",
              "2                    Adrian College     Yes   1428    1097     336         22   \n",
              "3               Agnes Scott College     Yes    417     349     137         60   \n",
              "4         Alaska Pacific University     Yes    193     146      55         16   \n",
              "..                              ...     ...    ...     ...     ...        ...   \n",
              "772         Worcester State College      No   2197    1515     543          4   \n",
              "773               Xavier University     Yes   1959    1805     695         24   \n",
              "774  Xavier University of Louisiana     Yes   2097    1915     695         34   \n",
              "775                 Yale University     Yes  10705    2453    1317         95   \n",
              "776    York College of Pennsylvania     Yes   2989    1855     691         28   \n",
              "\n",
              "     Top25perc  F.Undergrad  P.Undergrad  Outstate  Room.Board  Books  \\\n",
              "0           52         2885          537      7440        3300    450   \n",
              "1           29         2683         1227     12280        6450    750   \n",
              "2           50         1036           99     11250        3750    400   \n",
              "3           89          510           63     12960        5450    450   \n",
              "4           44          249          869      7560        4120    800   \n",
              "..         ...          ...          ...       ...         ...    ...   \n",
              "772         26         3089         2029      6797        3900    500   \n",
              "773         47         2849         1107     11520        4960    600   \n",
              "774         61         2793          166      6900        4200    617   \n",
              "775         99         5217           83     19840        6510    630   \n",
              "776         63         2988         1726      4990        3560    500   \n",
              "\n",
              "     Personal  PhD  Terminal  S.F.Ratio  perc.alumni  Expend  Grad.Rate  \n",
              "0        2200   70        78       18.1           12    7041         60  \n",
              "1        1500   29        30       12.2           16   10527         56  \n",
              "2        1165   53        66       12.9           30    8735         54  \n",
              "3         875   92        97        7.7           37   19016         59  \n",
              "4        1500   76        72       11.9            2   10922         15  \n",
              "..        ...  ...       ...        ...          ...     ...        ...  \n",
              "772      1200   60        60       21.0           14    4469         40  \n",
              "773      1250   73        75       13.3           31    9189         83  \n",
              "774       781   67        75       14.4           20    8323         49  \n",
              "775      2115   96        96        5.8           49   40386         99  \n",
              "776      1250   75        75       18.1           28    4509         99  \n",
              "\n",
              "[777 rows x 19 columns]"
            ],
            "text/html": [
              "\n",
              "  <div id=\"df-291af64f-202f-4e41-b962-5c792e01cefa\">\n",
              "    <div class=\"colab-df-container\">\n",
              "      <div>\n",
              "<style scoped>\n",
              "    .dataframe tbody tr th:only-of-type {\n",
              "        vertical-align: middle;\n",
              "    }\n",
              "\n",
              "    .dataframe tbody tr th {\n",
              "        vertical-align: top;\n",
              "    }\n",
              "\n",
              "    .dataframe thead th {\n",
              "        text-align: right;\n",
              "    }\n",
              "</style>\n",
              "<table border=\"1\" class=\"dataframe\">\n",
              "  <thead>\n",
              "    <tr style=\"text-align: right;\">\n",
              "      <th></th>\n",
              "      <th>Unnamed: 0</th>\n",
              "      <th>Private</th>\n",
              "      <th>Apps</th>\n",
              "      <th>Accept</th>\n",
              "      <th>Enroll</th>\n",
              "      <th>Top10perc</th>\n",
              "      <th>Top25perc</th>\n",
              "      <th>F.Undergrad</th>\n",
              "      <th>P.Undergrad</th>\n",
              "      <th>Outstate</th>\n",
              "      <th>Room.Board</th>\n",
              "      <th>Books</th>\n",
              "      <th>Personal</th>\n",
              "      <th>PhD</th>\n",
              "      <th>Terminal</th>\n",
              "      <th>S.F.Ratio</th>\n",
              "      <th>perc.alumni</th>\n",
              "      <th>Expend</th>\n",
              "      <th>Grad.Rate</th>\n",
              "    </tr>\n",
              "  </thead>\n",
              "  <tbody>\n",
              "    <tr>\n",
              "      <th>0</th>\n",
              "      <td>Abilene Christian University</td>\n",
              "      <td>Yes</td>\n",
              "      <td>1660</td>\n",
              "      <td>1232</td>\n",
              "      <td>721</td>\n",
              "      <td>23</td>\n",
              "      <td>52</td>\n",
              "      <td>2885</td>\n",
              "      <td>537</td>\n",
              "      <td>7440</td>\n",
              "      <td>3300</td>\n",
              "      <td>450</td>\n",
              "      <td>2200</td>\n",
              "      <td>70</td>\n",
              "      <td>78</td>\n",
              "      <td>18.1</td>\n",
              "      <td>12</td>\n",
              "      <td>7041</td>\n",
              "      <td>60</td>\n",
              "    </tr>\n",
              "    <tr>\n",
              "      <th>1</th>\n",
              "      <td>Adelphi University</td>\n",
              "      <td>Yes</td>\n",
              "      <td>2186</td>\n",
              "      <td>1924</td>\n",
              "      <td>512</td>\n",
              "      <td>16</td>\n",
              "      <td>29</td>\n",
              "      <td>2683</td>\n",
              "      <td>1227</td>\n",
              "      <td>12280</td>\n",
              "      <td>6450</td>\n",
              "      <td>750</td>\n",
              "      <td>1500</td>\n",
              "      <td>29</td>\n",
              "      <td>30</td>\n",
              "      <td>12.2</td>\n",
              "      <td>16</td>\n",
              "      <td>10527</td>\n",
              "      <td>56</td>\n",
              "    </tr>\n",
              "    <tr>\n",
              "      <th>2</th>\n",
              "      <td>Adrian College</td>\n",
              "      <td>Yes</td>\n",
              "      <td>1428</td>\n",
              "      <td>1097</td>\n",
              "      <td>336</td>\n",
              "      <td>22</td>\n",
              "      <td>50</td>\n",
              "      <td>1036</td>\n",
              "      <td>99</td>\n",
              "      <td>11250</td>\n",
              "      <td>3750</td>\n",
              "      <td>400</td>\n",
              "      <td>1165</td>\n",
              "      <td>53</td>\n",
              "      <td>66</td>\n",
              "      <td>12.9</td>\n",
              "      <td>30</td>\n",
              "      <td>8735</td>\n",
              "      <td>54</td>\n",
              "    </tr>\n",
              "    <tr>\n",
              "      <th>3</th>\n",
              "      <td>Agnes Scott College</td>\n",
              "      <td>Yes</td>\n",
              "      <td>417</td>\n",
              "      <td>349</td>\n",
              "      <td>137</td>\n",
              "      <td>60</td>\n",
              "      <td>89</td>\n",
              "      <td>510</td>\n",
              "      <td>63</td>\n",
              "      <td>12960</td>\n",
              "      <td>5450</td>\n",
              "      <td>450</td>\n",
              "      <td>875</td>\n",
              "      <td>92</td>\n",
              "      <td>97</td>\n",
              "      <td>7.7</td>\n",
              "      <td>37</td>\n",
              "      <td>19016</td>\n",
              "      <td>59</td>\n",
              "    </tr>\n",
              "    <tr>\n",
              "      <th>4</th>\n",
              "      <td>Alaska Pacific University</td>\n",
              "      <td>Yes</td>\n",
              "      <td>193</td>\n",
              "      <td>146</td>\n",
              "      <td>55</td>\n",
              "      <td>16</td>\n",
              "      <td>44</td>\n",
              "      <td>249</td>\n",
              "      <td>869</td>\n",
              "      <td>7560</td>\n",
              "      <td>4120</td>\n",
              "      <td>800</td>\n",
              "      <td>1500</td>\n",
              "      <td>76</td>\n",
              "      <td>72</td>\n",
              "      <td>11.9</td>\n",
              "      <td>2</td>\n",
              "      <td>10922</td>\n",
              "      <td>15</td>\n",
              "    </tr>\n",
              "    <tr>\n",
              "      <th>...</th>\n",
              "      <td>...</td>\n",
              "      <td>...</td>\n",
              "      <td>...</td>\n",
              "      <td>...</td>\n",
              "      <td>...</td>\n",
              "      <td>...</td>\n",
              "      <td>...</td>\n",
              "      <td>...</td>\n",
              "      <td>...</td>\n",
              "      <td>...</td>\n",
              "      <td>...</td>\n",
              "      <td>...</td>\n",
              "      <td>...</td>\n",
              "      <td>...</td>\n",
              "      <td>...</td>\n",
              "      <td>...</td>\n",
              "      <td>...</td>\n",
              "      <td>...</td>\n",
              "      <td>...</td>\n",
              "    </tr>\n",
              "    <tr>\n",
              "      <th>772</th>\n",
              "      <td>Worcester State College</td>\n",
              "      <td>No</td>\n",
              "      <td>2197</td>\n",
              "      <td>1515</td>\n",
              "      <td>543</td>\n",
              "      <td>4</td>\n",
              "      <td>26</td>\n",
              "      <td>3089</td>\n",
              "      <td>2029</td>\n",
              "      <td>6797</td>\n",
              "      <td>3900</td>\n",
              "      <td>500</td>\n",
              "      <td>1200</td>\n",
              "      <td>60</td>\n",
              "      <td>60</td>\n",
              "      <td>21.0</td>\n",
              "      <td>14</td>\n",
              "      <td>4469</td>\n",
              "      <td>40</td>\n",
              "    </tr>\n",
              "    <tr>\n",
              "      <th>773</th>\n",
              "      <td>Xavier University</td>\n",
              "      <td>Yes</td>\n",
              "      <td>1959</td>\n",
              "      <td>1805</td>\n",
              "      <td>695</td>\n",
              "      <td>24</td>\n",
              "      <td>47</td>\n",
              "      <td>2849</td>\n",
              "      <td>1107</td>\n",
              "      <td>11520</td>\n",
              "      <td>4960</td>\n",
              "      <td>600</td>\n",
              "      <td>1250</td>\n",
              "      <td>73</td>\n",
              "      <td>75</td>\n",
              "      <td>13.3</td>\n",
              "      <td>31</td>\n",
              "      <td>9189</td>\n",
              "      <td>83</td>\n",
              "    </tr>\n",
              "    <tr>\n",
              "      <th>774</th>\n",
              "      <td>Xavier University of Louisiana</td>\n",
              "      <td>Yes</td>\n",
              "      <td>2097</td>\n",
              "      <td>1915</td>\n",
              "      <td>695</td>\n",
              "      <td>34</td>\n",
              "      <td>61</td>\n",
              "      <td>2793</td>\n",
              "      <td>166</td>\n",
              "      <td>6900</td>\n",
              "      <td>4200</td>\n",
              "      <td>617</td>\n",
              "      <td>781</td>\n",
              "      <td>67</td>\n",
              "      <td>75</td>\n",
              "      <td>14.4</td>\n",
              "      <td>20</td>\n",
              "      <td>8323</td>\n",
              "      <td>49</td>\n",
              "    </tr>\n",
              "    <tr>\n",
              "      <th>775</th>\n",
              "      <td>Yale University</td>\n",
              "      <td>Yes</td>\n",
              "      <td>10705</td>\n",
              "      <td>2453</td>\n",
              "      <td>1317</td>\n",
              "      <td>95</td>\n",
              "      <td>99</td>\n",
              "      <td>5217</td>\n",
              "      <td>83</td>\n",
              "      <td>19840</td>\n",
              "      <td>6510</td>\n",
              "      <td>630</td>\n",
              "      <td>2115</td>\n",
              "      <td>96</td>\n",
              "      <td>96</td>\n",
              "      <td>5.8</td>\n",
              "      <td>49</td>\n",
              "      <td>40386</td>\n",
              "      <td>99</td>\n",
              "    </tr>\n",
              "    <tr>\n",
              "      <th>776</th>\n",
              "      <td>York College of Pennsylvania</td>\n",
              "      <td>Yes</td>\n",
              "      <td>2989</td>\n",
              "      <td>1855</td>\n",
              "      <td>691</td>\n",
              "      <td>28</td>\n",
              "      <td>63</td>\n",
              "      <td>2988</td>\n",
              "      <td>1726</td>\n",
              "      <td>4990</td>\n",
              "      <td>3560</td>\n",
              "      <td>500</td>\n",
              "      <td>1250</td>\n",
              "      <td>75</td>\n",
              "      <td>75</td>\n",
              "      <td>18.1</td>\n",
              "      <td>28</td>\n",
              "      <td>4509</td>\n",
              "      <td>99</td>\n",
              "    </tr>\n",
              "  </tbody>\n",
              "</table>\n",
              "<p>777 rows × 19 columns</p>\n",
              "</div>\n",
              "      <button class=\"colab-df-convert\" onclick=\"convertToInteractive('df-291af64f-202f-4e41-b962-5c792e01cefa')\"\n",
              "              title=\"Convert this dataframe to an interactive table.\"\n",
              "              style=\"display:none;\">\n",
              "        \n",
              "  <svg xmlns=\"http://www.w3.org/2000/svg\" height=\"24px\"viewBox=\"0 0 24 24\"\n",
              "       width=\"24px\">\n",
              "    <path d=\"M0 0h24v24H0V0z\" fill=\"none\"/>\n",
              "    <path d=\"M18.56 5.44l.94 2.06.94-2.06 2.06-.94-2.06-.94-.94-2.06-.94 2.06-2.06.94zm-11 1L8.5 8.5l.94-2.06 2.06-.94-2.06-.94L8.5 2.5l-.94 2.06-2.06.94zm10 10l.94 2.06.94-2.06 2.06-.94-2.06-.94-.94-2.06-.94 2.06-2.06.94z\"/><path d=\"M17.41 7.96l-1.37-1.37c-.4-.4-.92-.59-1.43-.59-.52 0-1.04.2-1.43.59L10.3 9.45l-7.72 7.72c-.78.78-.78 2.05 0 2.83L4 21.41c.39.39.9.59 1.41.59.51 0 1.02-.2 1.41-.59l7.78-7.78 2.81-2.81c.8-.78.8-2.07 0-2.86zM5.41 20L4 18.59l7.72-7.72 1.47 1.35L5.41 20z\"/>\n",
              "  </svg>\n",
              "      </button>\n",
              "      \n",
              "  <style>\n",
              "    .colab-df-container {\n",
              "      display:flex;\n",
              "      flex-wrap:wrap;\n",
              "      gap: 12px;\n",
              "    }\n",
              "\n",
              "    .colab-df-convert {\n",
              "      background-color: #E8F0FE;\n",
              "      border: none;\n",
              "      border-radius: 50%;\n",
              "      cursor: pointer;\n",
              "      display: none;\n",
              "      fill: #1967D2;\n",
              "      height: 32px;\n",
              "      padding: 0 0 0 0;\n",
              "      width: 32px;\n",
              "    }\n",
              "\n",
              "    .colab-df-convert:hover {\n",
              "      background-color: #E2EBFA;\n",
              "      box-shadow: 0px 1px 2px rgba(60, 64, 67, 0.3), 0px 1px 3px 1px rgba(60, 64, 67, 0.15);\n",
              "      fill: #174EA6;\n",
              "    }\n",
              "\n",
              "    [theme=dark] .colab-df-convert {\n",
              "      background-color: #3B4455;\n",
              "      fill: #D2E3FC;\n",
              "    }\n",
              "\n",
              "    [theme=dark] .colab-df-convert:hover {\n",
              "      background-color: #434B5C;\n",
              "      box-shadow: 0px 1px 3px 1px rgba(0, 0, 0, 0.15);\n",
              "      filter: drop-shadow(0px 1px 2px rgba(0, 0, 0, 0.3));\n",
              "      fill: #FFFFFF;\n",
              "    }\n",
              "  </style>\n",
              "\n",
              "      <script>\n",
              "        const buttonEl =\n",
              "          document.querySelector('#df-291af64f-202f-4e41-b962-5c792e01cefa button.colab-df-convert');\n",
              "        buttonEl.style.display =\n",
              "          google.colab.kernel.accessAllowed ? 'block' : 'none';\n",
              "\n",
              "        async function convertToInteractive(key) {\n",
              "          const element = document.querySelector('#df-291af64f-202f-4e41-b962-5c792e01cefa');\n",
              "          const dataTable =\n",
              "            await google.colab.kernel.invokeFunction('convertToInteractive',\n",
              "                                                     [key], {});\n",
              "          if (!dataTable) return;\n",
              "\n",
              "          const docLinkHtml = 'Like what you see? Visit the ' +\n",
              "            '<a target=\"_blank\" href=https://colab.research.google.com/notebooks/data_table.ipynb>data table notebook</a>'\n",
              "            + ' to learn more about interactive tables.';\n",
              "          element.innerHTML = '';\n",
              "          dataTable['output_type'] = 'display_data';\n",
              "          await google.colab.output.renderOutput(dataTable, element);\n",
              "          const docLink = document.createElement('div');\n",
              "          docLink.innerHTML = docLinkHtml;\n",
              "          element.appendChild(docLink);\n",
              "        }\n",
              "      </script>\n",
              "    </div>\n",
              "  </div>\n",
              "  "
            ]
          },
          "metadata": {},
          "execution_count": 114
        }
      ],
      "source": [
        "from sklearn import preprocessing as pp, model_selection, ensemble, linear_model as lm, metrics\n",
        "import pandas as pd\n",
        "import numpy as np\n",
        "from sklearn.preprocessing import OneHotEncoder\n",
        "from tensorflow import keras\n",
        "import sklearn\n",
        "\n",
        "df = pd.read_csv('College.csv')\n",
        "df"
      ]
    },
    {
      "cell_type": "markdown",
      "source": [
        "**Transform categorical variable and create target/feature dataframes**"
      ],
      "metadata": {
        "id": "Skot7DbYnAZq"
      }
    },
    {
      "cell_type": "code",
      "source": [
        "ohe = OneHotEncoder()\n",
        "# fit and transform data\n",
        "one_hot_encoded = ohe.fit_transform(df[['Private']])\n",
        "# create a DataFrame from the transformed data\n",
        "df_encoded = pd.DataFrame(one_hot_encoded.toarray(), columns=ohe.get_feature_names_out(['Private']))\n",
        "# concatenate the original DataFrame with the one-hot encoded DataFrame\n",
        "df_final = pd.concat([df, df_encoded], axis=1)\n",
        "\n",
        "\n",
        "x = df_final.loc[:, df_final.columns.drop(['Apps', 'Unnamed: 0', 'Private',\"Private_No\"]) ]\n",
        "y = df_final.loc[:, df_final.columns == 'Apps']\n",
        "\n"
      ],
      "metadata": {
        "id": "jsANTv8QgrQn"
      },
      "execution_count": 87,
      "outputs": []
    },
    {
      "cell_type": "markdown",
      "source": [
        "**Standardize target and feature variables** "
      ],
      "metadata": {
        "id": "4sE8QF95nWcx"
      }
    },
    {
      "cell_type": "code",
      "source": [
        "scale = pp.StandardScaler()\n",
        "\n",
        "scale.fit(x)\n",
        "xs = scale.transform(x)\n",
        "\n",
        "scale.fit(y)\n",
        "ys = scale.transform(y)"
      ],
      "metadata": {
        "id": "_2dwGu68zefw",
        "colab": {
          "base_uri": "https://localhost:8080/"
        },
        "outputId": "435f5792-7286-4239-b32a-1e7a5549d694"
      },
      "execution_count": 113,
      "outputs": [
        {
          "output_type": "execute_result",
          "data": {
            "text/plain": [
              "array([[-0.32120545, -0.0635089 , -0.2585828 , ..., -0.50191008,\n",
              "        -0.31825194,  0.61255305],\n",
              "       [-0.03870299, -0.28858421, -0.6556556 , ...,  0.16610985,\n",
              "        -0.55126184,  0.61255305],\n",
              "       [-0.37631793, -0.47812132, -0.31530749, ..., -0.17728996,\n",
              "        -0.66776679,  0.61255305],\n",
              "       ...,\n",
              "       [-0.04237716, -0.0915087 ,  0.36538874, ..., -0.25624125,\n",
              "        -0.95902917,  0.61255305],\n",
              "       [ 0.17725626,  0.57833266,  3.82559456, ...,  5.88797079,\n",
              "         1.9535946 ,  0.61255305],\n",
              "       [-0.06687159, -0.09581636,  0.02504063, ..., -0.98711561,\n",
              "         1.9535946 ,  0.61255305]])"
            ]
          },
          "metadata": {},
          "execution_count": 113
        }
      ]
    },
    {
      "cell_type": "markdown",
      "source": [
        "**Split data into train and test groups**"
      ],
      "metadata": {
        "id": "ok9eGZLYoKJr"
      }
    },
    {
      "cell_type": "code",
      "source": [
        "xstrain,xstest, ystrain,ystest = model_selection.train_test_split(xs,ys, test_size=.30 )"
      ],
      "metadata": {
        "id": "CLnbz5n_h-0i"
      },
      "execution_count": 70,
      "outputs": []
    },
    {
      "cell_type": "markdown",
      "source": [
        "**Linear Model**"
      ],
      "metadata": {
        "id": "UZ094hykoPZl"
      }
    },
    {
      "cell_type": "code",
      "source": [
        "linear = lm.LinearRegression().fit(xstrain, ystrain)\n",
        "preds = linear.predict(xstest)\n",
        "print(\"The R^2 value is: \", linear.score(xstrain,ystrain))\n",
        "\n",
        "print(\"The Linear Regression model's MSE is: \", round(metrics.mean_squared_error(ystest,preds),4))\n"
      ],
      "metadata": {
        "colab": {
          "base_uri": "https://localhost:8080/"
        },
        "id": "ipUvyX5wg0Zn",
        "outputId": "2103312f-7638-4c8e-f87e-0b03ad7c3814"
      },
      "execution_count": 86,
      "outputs": [
        {
          "output_type": "stream",
          "name": "stdout",
          "text": [
            "The R^2 value is:  0.9394677313094707\n",
            "The Linear Regression model's MSE is:  0.079\n"
          ]
        }
      ]
    },
    {
      "cell_type": "markdown",
      "source": [
        "**Ridge Regression**"
      ],
      "metadata": {
        "id": "L14GYSeWodXw"
      }
    },
    {
      "cell_type": "code",
      "source": [
        "ridge = lm.RidgeCV(cv=10, alphas=[.01,.1,1,10], scoring='neg_mean_squared_error').fit(xstrain, ystrain)\n",
        "pred = ridge.predict(xstest)\n",
        "\n",
        "print(\"The Ridge Model's R^2 value is \", ridge.score(xstrain,ystrain))\n",
        "\n",
        "\n",
        "\n",
        "print(\"The Ridge Model's MSE is: \", round(metrics.mean_squared_error(ystest,pred),4))\n",
        "\n",
        "print('The best lamda value is', ridge.alpha_)"
      ],
      "metadata": {
        "colab": {
          "base_uri": "https://localhost:8080/"
        },
        "id": "l0U1N1mQy8ap",
        "outputId": "e0ce001f-0953-4f1a-c41f-3427cc8229e8"
      },
      "execution_count": 109,
      "outputs": [
        {
          "output_type": "stream",
          "name": "stdout",
          "text": [
            "The Ridge Model's R^2 value is  0.9394677266713616\n",
            "The Ridge Model's MSE is:  0.0789\n",
            "The best lamda value is 0.01\n"
          ]
        }
      ]
    },
    {
      "cell_type": "markdown",
      "source": [
        "**Lasso Regression**"
      ],
      "metadata": {
        "id": "lp1BRqrcohKb"
      }
    },
    {
      "cell_type": "code",
      "source": [
        "lasso = lm.LassoCV(cv=10, alphas=[.01,.1,1,10]).fit(xstrain, ystrain.ravel())\n",
        "pred = lasso.predict(xstest)\n",
        "\n",
        "lm.LassoCV()\n",
        "\n",
        "print(\"The Lasso Models' R^2 value is: \", lasso.score(xstrain,ystrain))\n",
        "\n",
        "print(\"The Lasso Model's MSE is: \", round(metrics.mean_squared_error(ystest,pred),4))\n",
        "\n",
        "\n",
        "print('Array of all beta coefficients: ', lasso.coef_)\n",
        "\n",
        "print('Array of non zero coefficients: ', lasso.coef_[lasso.coef_ != 0 ])\n",
        "\n",
        "print('The best lamda value is', lasso.alpha_)\n",
        "\n"
      ],
      "metadata": {
        "colab": {
          "base_uri": "https://localhost:8080/"
        },
        "id": "RPjctUhHqy0I",
        "outputId": "86830075-82f8-4cfb-dfd1-c6aa1bb828f8"
      },
      "execution_count": 112,
      "outputs": [
        {
          "output_type": "stream",
          "name": "stdout",
          "text": [
            "The Lasso Models' R^2 value is:  0.9322853896309471\n",
            "The Lasso Model's MSE is:  0.0676\n",
            "Array of all beta coefficients:  [ 0.90161149 -0.01167171  0.13531821 -0.         -0.         -0.\n",
            " -0.05512945  0.02260111 -0.          0.         -0.02394414 -0.01253449\n",
            "  0.         -0.          0.10973844  0.0223559  -0.03555084]\n",
            "Array of non zero coefficients:  [ 0.90161149 -0.01167171  0.13531821 -0.05512945  0.02260111 -0.02394414\n",
            " -0.01253449  0.10973844  0.0223559  -0.03555084]\n",
            "The best lamda value is 0.01\n"
          ]
        }
      ]
    },
    {
      "cell_type": "markdown",
      "source": [
        "# **Best Model: Lasso**#\n",
        "\n",
        "- Lasso Model had the lowest MSE\n",
        "- Suggests that there are a few variables that best explain college applications. "
      ],
      "metadata": {
        "id": "OJRCNzo0oqxw"
      }
    },
    {
      "cell_type": "markdown",
      "source": [
        "# **Key Points:**#\n",
        "\n",
        "\n",
        "- Tried 3 different regression models: One classic linear regression and two regularization regression techniques. \n",
        "- These methods were introduced to prevent overfitting and reduce magnitude of coefficients \n",
        "\n",
        "\n",
        "\n",
        "Ridge Regression: \n",
        "\n",
        "\n",
        "- Purpose: Create a model with a lower variance and lower complexity.\n",
        "- Penalty term: square of the magnitude of the coefficients. (**L2 Norm**)\n",
        "- shrink the coefficients towards zero, but not to set any of them to exactly zero\n",
        "\n",
        "\n",
        "Lasso Regression: \n",
        "- Purpose: Create model with lower variance and higher interpretability\n",
        "- Penalty term: absolute value of the magnitude of the coefficients (**L1 Norm**)\n",
        "- Shrink some of the coefficients to zero, effectively performing feature selection and reducing the number of variables in the model. \n",
        "\n",
        "\n",
        "Hyperparameters:\n",
        "- Lamda: Used to tune regularization in Ridge and Lasso. Adjusts the penalty given to beta coefficients\n",
        "- Number of cross folds\n",
        "\n",
        "\n",
        "\n",
        "\n",
        "\n",
        "\n"
      ],
      "metadata": {
        "id": "UQoe3i7Fq5QW"
      }
    },
    {
      "cell_type": "code",
      "source": [],
      "metadata": {
        "id": "xhk7vrHpw8eb"
      },
      "execution_count": null,
      "outputs": []
    }
  ]
}